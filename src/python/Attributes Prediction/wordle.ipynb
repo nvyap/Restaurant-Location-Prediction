{
 "cells": [
  {
   "cell_type": "code",
   "execution_count": 47,
   "metadata": {},
   "outputs": [],
   "source": [
    "# dic = {\"burger\":0.020, \"place\":0.009, \"hamburger\":0.007, \"bar\": 0.007, \"work\": 0.005, \"order\":0.005, \"like\":0.005, \"great\":0.005, \"original\":0.005, \"fry\":0.005}\n",
    "\n",
    "\n",
    "# dic = {\"good\":0.025, \"food\":0.011, \"service\":0.011, \"great\":0.011, \"back\":0.009, \"place\":0.008, \"mac\":0.008, \"restaurant\":0.007, \"bread\":0.007}\n",
    "\n",
    "dic = {\"place\":0.015, \"food\":0.013, \"sushi\":0.012, \"good\":0.012, \"great\":0.009, \"like\":0.008, \"spicy\":0.008, \"bento\":0.007, \"roll\":0.007, \"back\":0.007}\n",
    "       \n",
    "       \n",
    "dic = {\"food\":0.017, \"drink\":0.011,  + *\"service\" + 0.010*\"time\" + 0.009*\"back\" + 0.008*\"place\" + 0.007*\"minute\" + 0.007*\"get\" + 0.006*\"hour\" + 0.006*\"u\"',\n",
    "'}       \n",
    "       \n",
    "       "
   ]
  },
  {
   "cell_type": "code",
   "execution_count": 48,
   "metadata": {},
   "outputs": [
    {
     "data": {
      "text/plain": [
       "{'place': 0.015,\n",
       " 'food': 0.013,\n",
       " 'sushi': 0.012,\n",
       " 'good': 0.012,\n",
       " 'great': 0.009,\n",
       " 'like': 0.008,\n",
       " 'spicy': 0.008,\n",
       " 'bento': 0.007,\n",
       " 'roll': 0.007,\n",
       " 'back': 0.007}"
      ]
     },
     "execution_count": 48,
     "metadata": {},
     "output_type": "execute_result"
    }
   ],
   "source": [
    "dic"
   ]
  },
  {
   "cell_type": "code",
   "execution_count": 62,
   "metadata": {},
   "outputs": [
    {
     "data": {
      "text/plain": [
       "([], <a list of 0 Text yticklabel objects>)"
      ]
     },
     "execution_count": 62,
     "metadata": {},
     "output_type": "execute_result"
    },
    {
     "data": {
      "image/png": "[encoded data removed]",
      "text/plain": [
       "<Figure size 432x288 with 1 Axes>"
      ]
     },
     "metadata": {},
     "output_type": "display_data"
    }
   ],
   "source": [
    "from PIL import Image\n",
    "import matplotlib.pyplot as plt\n",
    "from wordcloud import WordCloud\n",
    "\n",
    "\n",
    "wc = WordCloud(background_color=\"white\",width=1000,height=1000, max_words=100,relative_scaling=0.4,normalize_plurals=False).generate_from_frequencies(dic)\n",
    "plt.imshow(wc)\n",
    "plt.xticks([], [])\n",
    "plt.yticks([], [])"
   ]
  },
  {
   "cell_type": "code",
   "execution_count": null,
   "metadata": {},
   "outputs": [],
   "source": []
  },
  {
   "cell_type": "code",
   "execution_count": 64,
   "metadata": {},
   "outputs": [
    {
     "data": {
      "text/plain": [
       "[1, 3, 5, 7, 9, 11, 13, 15, 17, 19, 21, 23, 25, 27, 29, 31, 33, 35, 37, 39, 41]"
      ]
     },
     "execution_count": 64,
     "metadata": {},
     "output_type": "execute_result"
    }
   ],
   "source": [
    "list(range(1, 42, 2))"
   ]
  },
  {
   "cell_type": "code",
   "execution_count": null,
   "metadata": {},
   "outputs": [],
   "source": []
  }
 ],
 "metadata": {
  "kernelspec": {
   "display_name": "Python 3",
   "language": "python",
   "name": "python3"
  },
  "language_info": {
   "codemirror_mode": {
    "name": "ipython",
    "version": 3
   },
   "file_extension": ".py",
   "mimetype": "text/x-python",
   "name": "python",
   "nbconvert_exporter": "python",
   "pygments_lexer": "ipython3",
   "version": "3.6.6"
  }
 },
 "nbformat": 4,
 "nbformat_minor": 2
}
