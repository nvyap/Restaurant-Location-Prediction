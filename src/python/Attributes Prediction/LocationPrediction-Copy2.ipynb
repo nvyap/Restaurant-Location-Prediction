{
 "cells": [
  {
   "cell_type": "markdown",
   "metadata": {},
   "source": [
    "## Model 1 - Location Prediction"
   ]
  },
  {
   "cell_type": "code",
   "execution_count": 2,
   "metadata": {},
   "outputs": [
    {
     "name": "stderr",
     "output_type": "stream",
     "text": [
      "/home/ec2-user/miniconda3/lib/python3.7/site-packages/sklearn/utils/__init__.py:4: DeprecationWarning: Using or importing the ABCs from 'collections' instead of from 'collections.abc' is deprecated, and in 3.8 it will stop working\n",
      "  from collections import Sequence\n",
      "/home/ec2-user/miniconda3/lib/python3.7/site-packages/sklearn/ensemble/weight_boosting.py:29: DeprecationWarning: numpy.core.umath_tests is an internal NumPy module and should not be imported. It will be removed in a future NumPy release.\n",
      "  from numpy.core.umath_tests import inner1d\n"
     ]
    }
   ],
   "source": [
    "import pandas as pd\n",
    "import json\n",
    "import csv\n",
    "from collections import defaultdict\n",
    "import matplotlib.pyplot as plt\n",
    "import numpy as np\n",
    "from sklearn import linear_model\n",
    "from sklearn.metrics import mean_squared_error, r2_score\n",
    "from sklearn.model_selection import train_test_split\n",
    "%matplotlib inline\n",
    "from sklearn import linear_model as lm\n",
    "from sklearn.svm import SVC\n",
    "from sklearn.ensemble import RandomForestClassifier\n",
    "from sklearn.datasets import make_classification\n",
    "from sklearn.metrics import accuracy_score, classification_report\n",
    "from sklearn.model_selection import cross_val_score, GridSearchCV, cross_validate, train_test_split\n",
    "import statsmodels.api as sm\n",
    "from sklearn.preprocessing import StandardScaler, normalize\n",
    "from sklearn.preprocessing import LabelEncoder\n",
    "import statsmodels.api as sm\n",
    "import math"
   ]
  },
  {
   "cell_type": "code",
   "execution_count": 3,
   "metadata": {},
   "outputs": [],
   "source": [
    "#Ignore warnings \n",
    "import warnings\n",
    "warnings.simplefilter(\"ignore\", category=DeprecationWarning)"
   ]
  },
  {
   "cell_type": "markdown",
   "metadata": {},
   "source": [
    "## I. Data (wo Finer segregation in Asian Population)\n"
   ]
  },
  {
   "cell_type": "code",
   "execution_count": 4,
   "metadata": {},
   "outputs": [
    {
     "data": {
      "text/html": [
       "<div>\n",
       "<style scoped>\n",
       "    .dataframe tbody tr th:only-of-type {\n",
       "        vertical-align: middle;\n",
       "    }\n",
       "\n",
       "    .dataframe tbody tr th {\n",
       "        vertical-align: top;\n",
       "    }\n",
       "\n",
       "    .dataframe thead th {\n",
       "        text-align: right;\n",
       "    }\n",
       "</style>\n",
       "<table border=\"1\" class=\"dataframe\">\n",
       "  <thead>\n",
       "    <tr style=\"text-align: right;\">\n",
       "      <th></th>\n",
       "      <th>zipcode</th>\n",
       "      <th>business_id</th>\n",
       "      <th>Mexican</th>\n",
       "      <th>American (Traditional)</th>\n",
       "      <th>Pizza</th>\n",
       "      <th>American (New)</th>\n",
       "      <th>Burgers</th>\n",
       "      <th>Italian</th>\n",
       "      <th>Chinese</th>\n",
       "      <th>Salad</th>\n",
       "      <th>...</th>\n",
       "      <th>median_income</th>\n",
       "      <th>median_age</th>\n",
       "      <th>under_18</th>\n",
       "      <th>above_18</th>\n",
       "      <th>walkscore</th>\n",
       "      <th>ffall</th>\n",
       "      <th>stars</th>\n",
       "      <th>review_count</th>\n",
       "      <th>ffall_category</th>\n",
       "      <th>CuisineCombined</th>\n",
       "    </tr>\n",
       "  </thead>\n",
       "  <tbody>\n",
       "    <tr>\n",
       "      <th>0</th>\n",
       "      <td>85007</td>\n",
       "      <td>_c3ixq9jYKxhLUB0czi0ug</td>\n",
       "      <td>0</td>\n",
       "      <td>0</td>\n",
       "      <td>0</td>\n",
       "      <td>0</td>\n",
       "      <td>1</td>\n",
       "      <td>0</td>\n",
       "      <td>0</td>\n",
       "      <td>0</td>\n",
       "      <td>...</td>\n",
       "      <td>27557</td>\n",
       "      <td>35.0</td>\n",
       "      <td>3652</td>\n",
       "      <td>8906</td>\n",
       "      <td>60.0</td>\n",
       "      <td>987</td>\n",
       "      <td>4.0</td>\n",
       "      <td>277</td>\n",
       "      <td>4</td>\n",
       "      <td>14</td>\n",
       "    </tr>\n",
       "  </tbody>\n",
       "</table>\n",
       "<p>1 rows × 70 columns</p>\n",
       "</div>"
      ],
      "text/plain": [
       "   zipcode             business_id  Mexican  American (Traditional)  Pizza  \\\n",
       "0    85007  _c3ixq9jYKxhLUB0czi0ug        0                       0      0   \n",
       "\n",
       "   American (New)  Burgers  Italian  Chinese  Salad       ...         \\\n",
       "0               0        1        0        0      0       ...          \n",
       "\n",
       "   median_income  median_age  under_18  above_18  walkscore  ffall  stars  \\\n",
       "0          27557        35.0      3652      8906       60.0    987    4.0   \n",
       "\n",
       "   review_count  ffall_category  CuisineCombined  \n",
       "0           277               4               14  \n",
       "\n",
       "[1 rows x 70 columns]"
      ]
     },
     "execution_count": 4,
     "metadata": {},
     "output_type": "execute_result"
    }
   ],
   "source": [
    "raw_data = pd.read_csv('../../../data/phoenix_business_ws_rw_ffall_merged2.csv', skipinitialspace=True)\n",
    "\n",
    "raw_data.head(1)"
   ]
  },
  {
   "cell_type": "markdown",
   "metadata": {},
   "source": [
    "All the available attibutes in the given dataset. "
   ]
  },
  {
   "cell_type": "markdown",
   "metadata": {},
   "source": [
    "### 2. Model Building"
   ]
  },
  {
   "cell_type": "markdown",
   "metadata": {},
   "source": [
    "#### 2.1. Data preparation"
   ]
  },
  {
   "cell_type": "code",
   "execution_count": 136,
   "metadata": {},
   "outputs": [
    {
     "name": "stderr",
     "output_type": "stream",
     "text": [
      "/home/ec2-user/miniconda3/lib/python3.7/site-packages/ipykernel_launcher.py:2: SettingWithCopyWarning: \n",
      "A value is trying to be set on a copy of a slice from a DataFrame.\n",
      "Try using .loc[row_indexer,col_indexer] = value instead\n",
      "\n",
      "See the caveats in the documentation: http://pandas.pydata.org/pandas-docs/stable/indexing.html#indexing-view-versus-copy\n",
      "  \n",
      "/home/ec2-user/miniconda3/lib/python3.7/site-packages/ipykernel_launcher.py:3: SettingWithCopyWarning: \n",
      "A value is trying to be set on a copy of a slice from a DataFrame.\n",
      "Try using .loc[row_indexer,col_indexer] = value instead\n",
      "\n",
      "See the caveats in the documentation: http://pandas.pydata.org/pandas-docs/stable/indexing.html#indexing-view-versus-copy\n",
      "  This is separate from the ipykernel package so we can avoid doing imports until\n",
      "/home/ec2-user/miniconda3/lib/python3.7/site-packages/ipykernel_launcher.py:4: SettingWithCopyWarning: \n",
      "A value is trying to be set on a copy of a slice from a DataFrame.\n",
      "Try using .loc[row_indexer,col_indexer] = value instead\n",
      "\n",
      "See the caveats in the documentation: http://pandas.pydata.org/pandas-docs/stable/indexing.html#indexing-view-versus-copy\n",
      "  after removing the cwd from sys.path.\n",
      "/home/ec2-user/miniconda3/lib/python3.7/site-packages/ipykernel_launcher.py:5: SettingWithCopyWarning: \n",
      "A value is trying to be set on a copy of a slice from a DataFrame.\n",
      "Try using .loc[row_indexer,col_indexer] = value instead\n",
      "\n",
      "See the caveats in the documentation: http://pandas.pydata.org/pandas-docs/stable/indexing.html#indexing-view-versus-copy\n",
      "  \"\"\"\n",
      "/home/ec2-user/miniconda3/lib/python3.7/site-packages/ipykernel_launcher.py:6: SettingWithCopyWarning: \n",
      "A value is trying to be set on a copy of a slice from a DataFrame.\n",
      "Try using .loc[row_indexer,col_indexer] = value instead\n",
      "\n",
      "See the caveats in the documentation: http://pandas.pydata.org/pandas-docs/stable/indexing.html#indexing-view-versus-copy\n",
      "  \n",
      "/home/ec2-user/miniconda3/lib/python3.7/site-packages/ipykernel_launcher.py:7: SettingWithCopyWarning: \n",
      "A value is trying to be set on a copy of a slice from a DataFrame.\n",
      "Try using .loc[row_indexer,col_indexer] = value instead\n",
      "\n",
      "See the caveats in the documentation: http://pandas.pydata.org/pandas-docs/stable/indexing.html#indexing-view-versus-copy\n",
      "  import sys\n",
      "/home/ec2-user/miniconda3/lib/python3.7/site-packages/ipykernel_launcher.py:8: SettingWithCopyWarning: \n",
      "A value is trying to be set on a copy of a slice from a DataFrame.\n",
      "Try using .loc[row_indexer,col_indexer] = value instead\n",
      "\n",
      "See the caveats in the documentation: http://pandas.pydata.org/pandas-docs/stable/indexing.html#indexing-view-versus-copy\n",
      "  \n"
     ]
    },
    {
     "data": {
      "text/html": [
       "<div>\n",
       "<style scoped>\n",
       "    .dataframe tbody tr th:only-of-type {\n",
       "        vertical-align: middle;\n",
       "    }\n",
       "\n",
       "    .dataframe tbody tr th {\n",
       "        vertical-align: top;\n",
       "    }\n",
       "\n",
       "    .dataframe thead th {\n",
       "        text-align: right;\n",
       "    }\n",
       "</style>\n",
       "<table border=\"1\" class=\"dataframe\">\n",
       "  <thead>\n",
       "    <tr style=\"text-align: right;\">\n",
       "      <th></th>\n",
       "      <th>zipcode</th>\n",
       "      <th>business_id</th>\n",
       "      <th>Mexican</th>\n",
       "      <th>American (Traditional)</th>\n",
       "      <th>Pizza</th>\n",
       "      <th>American (New)</th>\n",
       "      <th>Burgers</th>\n",
       "      <th>Italian</th>\n",
       "      <th>Chinese</th>\n",
       "      <th>Salad</th>\n",
       "      <th>...</th>\n",
       "      <th>review_count</th>\n",
       "      <th>ffall_category</th>\n",
       "      <th>CuisineCombined</th>\n",
       "      <th>totalStars</th>\n",
       "      <th>adjwhp</th>\n",
       "      <th>adjpafp</th>\n",
       "      <th>adjindp</th>\n",
       "      <th>adjasp</th>\n",
       "      <th>adjhwp</th>\n",
       "      <th>adjorp</th>\n",
       "    </tr>\n",
       "  </thead>\n",
       "  <tbody>\n",
       "    <tr>\n",
       "      <th>1</th>\n",
       "      <td>85033</td>\n",
       "      <td>3ByGQOVgds2YEu6kzl-XEQ</td>\n",
       "      <td>0</td>\n",
       "      <td>1</td>\n",
       "      <td>0</td>\n",
       "      <td>0</td>\n",
       "      <td>0</td>\n",
       "      <td>0</td>\n",
       "      <td>0</td>\n",
       "      <td>0</td>\n",
       "      <td>...</td>\n",
       "      <td>3</td>\n",
       "      <td>0</td>\n",
       "      <td>11</td>\n",
       "      <td>7.5</td>\n",
       "      <td>72047.5</td>\n",
       "      <td>6790.0</td>\n",
       "      <td>2300.0</td>\n",
       "      <td>1110.0</td>\n",
       "      <td>167.5</td>\n",
       "      <td>45272.5</td>\n",
       "    </tr>\n",
       "  </tbody>\n",
       "</table>\n",
       "<p>1 rows × 77 columns</p>\n",
       "</div>"
      ],
      "text/plain": [
       "   zipcode             business_id  Mexican  American (Traditional)  Pizza  \\\n",
       "1    85033  3ByGQOVgds2YEu6kzl-XEQ        0                       1      0   \n",
       "\n",
       "   American (New)  Burgers  Italian  Chinese  Salad   ...     review_count  \\\n",
       "1               0        0        0        0      0   ...                3   \n",
       "\n",
       "   ffall_category  CuisineCombined  totalStars   adjwhp  adjpafp  adjindp  \\\n",
       "1               0               11         7.5  72047.5   6790.0   2300.0   \n",
       "\n",
       "   adjasp  adjhwp   adjorp  \n",
       "1  1110.0   167.5  45272.5  \n",
       "\n",
       "[1 rows x 77 columns]"
      ]
     },
     "execution_count": 136,
     "metadata": {},
     "output_type": "execute_result"
    }
   ],
   "source": [
    "dframe = raw_data[(raw_data['ffall']<=888) & (raw_data['ffall']>=3)]\n",
    "dframe['totalStars'] = dframe['review_count'] * dframe['stars']\n",
    "dframe['adjwhp'] = dframe['white_pop'] * dframe['stars']\n",
    "dframe['adjpafp'] = dframe['afam_pop'] * dframe['stars']\n",
    "dframe['adjindp'] = dframe['amindian_pop'] * dframe['stars']\n",
    "dframe['adjasp'] = dframe['asian_pop'] * dframe['stars']\n",
    "dframe['adjhwp'] = dframe['hawaiian_pop'] * dframe['stars']\n",
    "dframe['adjorp'] = dframe['other_race'] * dframe['stars']\n",
    "\n",
    "train, test = train_test_split(dframe, test_size=0.05)\n",
    "dframe.head(1)"
   ]
  },
  {
   "cell_type": "code",
   "execution_count": 137,
   "metadata": {},
   "outputs": [],
   "source": [
    "zip_means_df = dframe.groupby(['zipcode']).agg([np.mean])\n",
    "zip_avg_ffall_revC_list = []\n",
    "rowitem = []\n",
    "\n",
    "for ind, row in zip_means_df.iterrows():\n",
    "    zip_avg_ffall_revC_list.append([ind, row.iloc[65], row.iloc[63], row[66]])\n",
    "    \n",
    "zip_avg_ffall_revC_df = pd.DataFrame(zip_avg_ffall_revC_list, columns=['zipcode','avgrc','avgffall', 'avgffc'])\n",
    "zip_avg_ffall_revC_df.drop_duplicates(inplace = True)"
   ]
  },
  {
   "cell_type": "code",
   "execution_count": 38,
   "metadata": {},
   "outputs": [],
   "source": [
    "X_train = train.drop(columns=['zipcode','business_id','ffall_category','CuisineCombined','total_pop','male','female','under_18','above_18','occupied_housing_units', 'review_count', 'stars', 'ffall', 'totalStars', 'zipcode.1', 'median_age', 'walkscore'])\n",
    "y_train = train['ffall']\n",
    "\n",
    "X_train.head()\n",
    "y_train.head()\n",
    "\n",
    "X_test = test.drop(columns=['zipcode','business_id','ffall_category','CuisineCombined','total_pop','male','female','under_18','above_18','occupied_housing_units', 'review_count', 'stars', 'ffall', 'totalStars', 'zipcode.1','median_age', 'walkscore'])\n",
    "y_test = test['ffall']"
   ]
  },
  {
   "cell_type": "code",
   "execution_count": 32,
   "metadata": {},
   "outputs": [
    {
     "data": {
      "text/plain": [
       "Index(['Mexican', 'American (Traditional)', 'Pizza', 'American (New)',\n",
       "       'Burgers', 'Italian', 'Chinese', 'Salad', 'Sports Bars', 'Seafood',\n",
       "       'Japanese', 'Barbeque', 'Mediterranean', 'Sushi Bars', 'Asian Fusion',\n",
       "       'Steakhouses', 'Greek', 'Tex-Mex', 'Thai', 'Vietnamese', 'Indian',\n",
       "       'Middle Eastern', 'Southern', 'Latin American', 'Hawaiian', 'Korean',\n",
       "       'French', 'Caribbean', 'Pakistani', 'Ramen', 'New Mexican Cuisine',\n",
       "       'Modern European', 'Spanish', 'African', 'Cantonese', 'Persian/Iranian',\n",
       "       'Filipino', 'Cuban', 'Mongolian', 'Lebanese', 'Polish', 'Taiwanese',\n",
       "       'German', 'Turkish', 'Ethiopian', 'Brazilian', 'Afghan', 'white_pop',\n",
       "       'afam_pop', 'amindian_pop', 'asian_pop', 'hawaiian_pop', 'other_race',\n",
       "       'median_income'],\n",
       "      dtype='object')"
      ]
     },
     "execution_count": 32,
     "metadata": {},
     "output_type": "execute_result"
    }
   ],
   "source": [
    "X_train.columns"
   ]
  },
  {
   "cell_type": "markdown",
   "metadata": {},
   "source": [
    "#### 2.2. Basic Model - Random Forrest Model"
   ]
  },
  {
   "cell_type": "code",
   "execution_count": 233,
   "metadata": {},
   "outputs": [],
   "source": [
    "from sklearn.ensemble import RandomForestRegressor"
   ]
  },
  {
   "cell_type": "code",
   "execution_count": 272,
   "metadata": {},
   "outputs": [
    {
     "data": {
      "text/plain": [
       "Index(['Mexican', 'American (Traditional)', 'Pizza', 'American (New)',\n",
       "       'Burgers', 'Italian', 'Chinese', 'Salad', 'Sports Bars', 'Seafood',\n",
       "       'Japanese', 'Barbeque', 'Mediterranean', 'Sushi Bars', 'Asian Fusion',\n",
       "       'Steakhouses', 'Greek', 'Tex-Mex', 'Thai', 'Vietnamese', 'Indian',\n",
       "       'Middle Eastern', 'Southern', 'Latin American', 'Hawaiian', 'Korean',\n",
       "       'French', 'Caribbean', 'Pakistani', 'Ramen', 'New Mexican Cuisine',\n",
       "       'Modern European', 'Spanish', 'African', 'Cantonese', 'Persian/Iranian',\n",
       "       'Filipino', 'Cuban', 'Mongolian', 'Lebanese', 'Polish', 'Taiwanese',\n",
       "       'German', 'Turkish', 'Ethiopian', 'Brazilian', 'Afghan', 'white_pop',\n",
       "       'afam_pop', 'amindian_pop', 'asian_pop', 'hawaiian_pop', 'other_race',\n",
       "       'median_income'],\n",
       "      dtype='object')"
      ]
     },
     "execution_count": 272,
     "metadata": {},
     "output_type": "execute_result"
    }
   ],
   "source": [
    "X_train.columns"
   ]
  },
  {
   "cell_type": "code",
   "execution_count": 273,
   "metadata": {},
   "outputs": [],
   "source": [
    "rf = RandomForestRegressor(n_estimators = 10, random_state = 42, max_depth=8)"
   ]
  },
  {
   "cell_type": "code",
   "execution_count": 274,
   "metadata": {},
   "outputs": [
    {
     "name": "stdout",
     "output_type": "stream",
     "text": [
      "Mean Absolute Error: 133.51 degrees.\n"
     ]
    }
   ],
   "source": [
    "rf.fit(X_train, y_train);\n",
    "predictions = rf.predict(X_train)\n",
    "errors = abs(predictions - y_train)\n",
    "print('Mean Absolute Error:', round(np.mean(errors), 2), 'degrees.')"
   ]
  },
  {
   "cell_type": "code",
   "execution_count": 275,
   "metadata": {},
   "outputs": [
    {
     "name": "stdout",
     "output_type": "stream",
     "text": [
      "68315914.25448632\n",
      "94938464.57887454\n",
      "0.2804190108032588\n"
     ]
    }
   ],
   "source": [
    "#RSS calculation\n",
    "y_mean = np.mean(y_train)\n",
    "\n",
    "ssr = np.sum((predictions-y_train)**2)\n",
    "sst = np.sum((y_train-y_mean)**2)\n",
    "\n",
    "print(ssr)\n",
    "print(sst)\n",
    "\n",
    "r = 1- ssr/sst\n",
    "\n",
    "print(r)\n",
    "\n",
    "# Calculate mean absolute percentage error (MAPE)\n",
    "#mape = 100 * (errors / y_test)\n",
    "# Calculate and display accuracy\n",
    "#accuracy = 100 - np.mean(mape)\n",
    "#print('Accuracy:', round(accuracy, 2), '%.')"
   ]
  },
  {
   "cell_type": "code",
   "execution_count": 276,
   "metadata": {},
   "outputs": [
    {
     "data": {
      "text/plain": [
       "array([ 1.88298119,  4.3132331 ,  1.56510945,  3.35378666,  2.9164051 ,\n",
       "        1.11986514,  1.57203702,  6.30585182,  1.98351477,  1.46133206,\n",
       "        0.20569031,  2.38717008,  0.74421925,  1.27540962,  1.98493778,\n",
       "        4.44545877,  0.69845513,  0.7740141 ,  3.55782597,  1.84598829,\n",
       "        0.12319883,  0.38164754,  0.24941129,  1.03783167,  0.33463572,\n",
       "        0.46094546,  1.1749527 ,  0.74943558,  0.66755936,  0.        ,\n",
       "        0.69356502,  0.16764701,  0.0306361 ,  0.        ,  0.03010604,\n",
       "        0.19497642,  1.35857985,  0.        ,  0.56414667,  0.        ,\n",
       "        0.        ,  0.        ,  0.        ,  0.        ,  0.        ,\n",
       "        0.        ,  0.02705986,  3.49224872,  8.63456553,  4.85948138,\n",
       "        4.87341616,  5.58270734, 13.41592255,  6.50203762])"
      ]
     },
     "execution_count": 276,
     "metadata": {},
     "output_type": "execute_result"
    }
   ],
   "source": [
    "rf.feature_importances_*100"
   ]
  },
  {
   "cell_type": "markdown",
   "metadata": {},
   "source": [
    "#### 2.3. Tune the model"
   ]
  },
  {
   "cell_type": "code",
   "execution_count": 109,
   "metadata": {},
   "outputs": [
    {
     "name": "stdout",
     "output_type": "stream",
     "text": [
      "Random forest classifier - Grid Search - Best params:  {'max_depth': 5, 'n_estimators': 11}\n",
      "Random forest classifier - Grid Search - Best Score:  0.05672110438667231\n"
     ]
    }
   ],
   "source": [
    "params = [{'n_estimators': [10, 11, 12, 13, 14, ], 'max_depth': [5, 6, 7] }]\n",
    "clf = GridSearchCV(RandomForestRegressor(), params, cv=10)\n",
    "clf.fit(X_train, y_train)\n",
    "print(\"Random forest classifier - Grid Search - Best params: \", clf.best_params_)\n",
    "print(\"Random forest classifier - Grid Search - Best Score: \", clf.best_score_)"
   ]
  },
  {
   "cell_type": "markdown",
   "metadata": {},
   "source": [
    "#### 2.4. Fit the tuned model"
   ]
  },
  {
   "cell_type": "code",
   "execution_count": 239,
   "metadata": {},
   "outputs": [
    {
     "name": "stdout",
     "output_type": "stream",
     "text": [
      "RMSE: 145.101112\n"
     ]
    }
   ],
   "source": [
    "rf = RandomForestRegressor(n_estimators = 11, random_state = 42, max_depth=5)\n",
    "rf.fit(X_train, y_train);\n",
    "preds = rf.predict(X_test)\n",
    "\n",
    "rmse = np.sqrt(mean_squared_error(y_test, preds))\n",
    "print(\"RMSE: %f\" % (rmse))"
   ]
  },
  {
   "cell_type": "markdown",
   "metadata": {},
   "source": [
    "#### 2.5. Basic Model - XGBoost"
   ]
  },
  {
   "cell_type": "code",
   "execution_count": 47,
   "metadata": {},
   "outputs": [],
   "source": [
    "import xgboost as xgb"
   ]
  },
  {
   "cell_type": "code",
   "execution_count": 48,
   "metadata": {},
   "outputs": [],
   "source": [
    "xg_reg = xgb.XGBRegressor(objective ='reg:linear', colsample_bytree = 0.3, learning_rate = 0.1,\n",
    "                max_depth = 5, alpha = 10, n_estimators = 10)\n",
    "\n",
    "xg_reg.fit(X_train, y_train)\n",
    "\n",
    "preds = xg_reg.predict(X_test)"
   ]
  },
  {
   "cell_type": "code",
   "execution_count": 241,
   "metadata": {},
   "outputs": [
    {
     "name": "stdout",
     "output_type": "stream",
     "text": [
      "RMSE: 155.806330\n"
     ]
    }
   ],
   "source": [
    "rmse = np.sqrt(mean_squared_error(y_test, preds))\n",
    "print(\"RMSE: %f\" % (rmse))"
   ]
  },
  {
   "cell_type": "code",
   "execution_count": 280,
   "metadata": {},
   "outputs": [
    {
     "name": "stdout",
     "output_type": "stream",
     "text": [
      "Random forest classifier - Grid Search - Best params:  {'alpha': 10, 'colsample_bytree': 0.3, 'learning_rate': 0.1, 'max_depth': 5, 'n_estimators': 30, 'objective': 'reg:linear'}\n",
      "Random forest classifier - Grid Search - Best Score:  0.0873763292603219\n"
     ]
    }
   ],
   "source": [
    "data_dmatrix = xgb.DMatrix(data=X_train,label=y_train)\n",
    "\n",
    "params = [{'learning_rate': [0.01, 0.1, 0.5], 'n_estimators': [25, 30, 35], 'max_depth': [5, 10, 15], \n",
    "           'colsample_bytree': [0.3, 0.6, 0.9], 'objective': ['reg:linear'], 'alpha': [10]}]\n",
    "\n",
    "clf = GridSearchCV(xgb.XGBRegressor(), params, cv=10)\n",
    "\n",
    "clf.fit(X_train_sc, y_train)\n",
    "print(\"Random forest classifier - Grid Search - Best params: \", clf.best_params_)\n",
    "print(\"Random forest classifier - Grid Search - Best Score: \", clf.best_score_)"
   ]
  },
  {
   "cell_type": "markdown",
   "metadata": {},
   "source": [
    "#### 2.6. Fit the tuned model"
   ]
  },
  {
   "cell_type": "code",
   "execution_count": 242,
   "metadata": {},
   "outputs": [
    {
     "name": "stdout",
     "output_type": "stream",
     "text": [
      "RMSE: 146.013344\n"
     ]
    }
   ],
   "source": [
    "# The following set of parameters give the best performance\n",
    "# {'alpha': 10, 'colsample_bytree': 0.3, 'learning_rate': 0.1, \n",
    "#  'max_depth': 5, 'n_estimators': 30, 'objective': 'reg:linear'}\n",
    "xg_reg = xgb.XGBRegressor(objective ='reg:linear', colsample_bytree = 0.3, learning_rate = 0.1,\n",
    "                max_depth = 5, alpha = 10, n_estimators = 35)\n",
    "\n",
    "xg_reg.fit(X_train, y_train)\n",
    "\n",
    "preds = xg_reg.predict(X_test)\n",
    "\n",
    "rmse = np.sqrt(mean_squared_error(y_test, preds))\n",
    "print(\"RMSE: %f\" % (rmse))"
   ]
  },
  {
   "cell_type": "markdown",
   "metadata": {},
   "source": [
    "#### 2.8. Just population dataset"
   ]
  },
  {
   "cell_type": "code",
   "execution_count": 179,
   "metadata": {},
   "outputs": [],
   "source": [
    "X_tr_pop = train[['white_pop', 'afam_pop', 'amindian_pop', 'asian_pop', 'hawaiian_pop', 'other_race', \n",
    "                  'median_income', 'walkscore']]\n",
    "X_tr_cu = train[['Mexican', 'American (Traditional)', 'Pizza', 'American (New)',\n",
    "       'Burgers', 'Italian', 'Chinese', 'Salad', 'Sports Bars', 'Seafood',\n",
    "       'Japanese', 'Barbeque', 'Mediterranean', 'Sushi Bars', 'Asian Fusion',\n",
    "       'Steakhouses', 'Greek', 'Tex-Mex', 'Thai', 'Vietnamese', 'Indian',\n",
    "       'Middle Eastern', 'Southern', 'Latin American', 'Hawaiian', 'Korean',\n",
    "       'French', 'Caribbean', 'Pakistani', 'Ramen', 'New Mexican Cuisine',\n",
    "       'Modern European', 'Spanish', 'African', 'Cantonese', 'Persian/Iranian',\n",
    "       'Filipino', 'Cuban', 'Mongolian', 'Lebanese', 'Polish', 'Taiwanese',\n",
    "       'German', 'Turkish', 'Ethiopian', 'Brazilian', 'Afghan']]\n",
    "y_tr = train['ffall']\n",
    "\n",
    "X_te_pop = test[['white_pop', 'afam_pop', 'amindian_pop', 'asian_pop', 'hawaiian_pop', 'other_race', \n",
    "                  'median_income', 'walkscore']]\n",
    "X_te_cu = test[['Mexican', 'American (Traditional)', 'Pizza', 'American (New)',\n",
    "       'Burgers', 'Italian', 'Chinese', 'Salad', 'Sports Bars', 'Seafood',\n",
    "       'Japanese', 'Barbeque', 'Mediterranean', 'Sushi Bars', 'Asian Fusion',\n",
    "       'Steakhouses', 'Greek', 'Tex-Mex', 'Thai', 'Vietnamese', 'Indian',\n",
    "       'Middle Eastern', 'Southern', 'Latin American', 'Hawaiian', 'Korean',\n",
    "       'French', 'Caribbean', 'Pakistani', 'Ramen', 'New Mexican Cuisine',\n",
    "       'Modern European', 'Spanish', 'African', 'Cantonese', 'Persian/Iranian',\n",
    "       'Filipino', 'Cuban', 'Mongolian', 'Lebanese', 'Polish', 'Taiwanese',\n",
    "       'German', 'Turkish', 'Ethiopian', 'Brazilian', 'Afghan']]\n",
    "y_te = test['ffall']"
   ]
  },
  {
   "cell_type": "code",
   "execution_count": 180,
   "metadata": {},
   "outputs": [
    {
     "data": {
      "text/plain": [
       "Index(['Mexican', 'American (Traditional)', 'Pizza', 'American (New)',\n",
       "       'Burgers', 'Italian', 'Chinese', 'Salad', 'Sports Bars', 'Seafood',\n",
       "       'Japanese', 'Barbeque', 'Mediterranean', 'Sushi Bars', 'Asian Fusion',\n",
       "       'Steakhouses', 'Greek', 'Tex-Mex', 'Thai', 'Vietnamese', 'Indian',\n",
       "       'Middle Eastern', 'Southern', 'Latin American', 'Hawaiian', 'Korean',\n",
       "       'French', 'Caribbean', 'Pakistani', 'Ramen', 'New Mexican Cuisine',\n",
       "       'Modern European', 'Spanish', 'African', 'Cantonese', 'Persian/Iranian',\n",
       "       'Filipino', 'Cuban', 'Mongolian', 'Lebanese', 'Polish', 'Taiwanese',\n",
       "       'German', 'Turkish', 'Ethiopian', 'Brazilian', 'Afghan', 'white_pop',\n",
       "       'afam_pop', 'amindian_pop', 'asian_pop', 'hawaiian_pop', 'other_race',\n",
       "       'median_income'],\n",
       "      dtype='object')"
      ]
     },
     "execution_count": 180,
     "metadata": {},
     "output_type": "execute_result"
    }
   ],
   "source": [
    "X_train.columns"
   ]
  },
  {
   "cell_type": "markdown",
   "metadata": {},
   "source": [
    "#### 2.7 Just trying pure regression"
   ]
  },
  {
   "cell_type": "code",
   "execution_count": 43,
   "metadata": {},
   "outputs": [
    {
     "name": "stdout",
     "output_type": "stream",
     "text": [
      "                            OLS Regression Results                            \n",
      "==============================================================================\n",
      "Dep. Variable:                  ffall   R-squared:                       0.173\n",
      "Model:                            OLS   Adj. R-squared:                  0.153\n",
      "Method:                 Least Squares   F-statistic:                     8.909\n",
      "Date:                Mon, 19 Nov 2018   Prob (F-statistic):           3.70e-61\n",
      "Time:                        05:24:43   Log-Likelihood:                -3981.0\n",
      "No. Observations:                2318   AIC:                             8070.\n",
      "Df Residuals:                    2264   BIC:                             8380.\n",
      "Df Model:                          53                                         \n",
      "Covariance Type:            nonrobust                                         \n",
      "==============================================================================\n",
      "                 coef    std err          t      P>|t|      [0.025      0.975]\n",
      "------------------------------------------------------------------------------\n",
      "const          4.2792      0.028    151.064      0.000       4.224       4.335\n",
      "x1             0.1278      0.040      3.158      0.002       0.048       0.207\n",
      "x2             0.1928      0.033      5.851      0.000       0.128       0.257\n",
      "x3            -0.0612      0.037     -1.674      0.094      -0.133       0.010\n",
      "x4             0.1679      0.031      5.466      0.000       0.108       0.228\n",
      "x5             0.1750      0.033      5.265      0.000       0.110       0.240\n",
      "x6             0.1981      0.034      5.876      0.000       0.132       0.264\n",
      "x7             0.0724      0.034      2.149      0.032       0.006       0.138\n",
      "x8             0.2222      0.029      7.607      0.000       0.165       0.279\n",
      "x9             0.0831      0.030      2.761      0.006       0.024       0.142\n",
      "x10            0.0636      0.029      2.166      0.030       0.006       0.121\n",
      "x11            0.1189      0.036      3.316      0.001       0.049       0.189\n",
      "x12            0.0430      0.031      1.398      0.162      -0.017       0.103\n",
      "x13            0.1322      0.039      3.353      0.001       0.055       0.210\n",
      "x14            0.0223      0.033      0.680      0.496      -0.042       0.087\n",
      "x15            0.0910      0.030      3.031      0.002       0.032       0.150\n",
      "x16            0.1150      0.030      3.868      0.000       0.057       0.173\n",
      "x17            0.0279      0.036      0.770      0.441      -0.043       0.099\n",
      "x18            0.0517      0.029      1.772      0.077      -0.006       0.109\n",
      "x19            0.1418      0.030      4.802      0.000       0.084       0.200\n",
      "x20            0.0487      0.030      1.642      0.101      -0.009       0.107\n",
      "x21            0.0430      0.036      1.196      0.232      -0.028       0.113\n",
      "x22           -0.0159      0.032     -0.496      0.620      -0.079       0.047\n",
      "x23           -0.0041      0.029     -0.142      0.887      -0.061       0.053\n",
      "x24            0.0666      0.029      2.305      0.021       0.010       0.123\n",
      "x25            0.0107      0.029      0.366      0.714      -0.047       0.068\n",
      "x26            0.0011      0.030      0.038      0.969      -0.057       0.059\n",
      "x27            0.0928      0.029      3.225      0.001       0.036       0.149\n",
      "x28           -0.0292      0.029     -0.999      0.318      -0.087       0.028\n",
      "x29            0.0622      0.037      1.690      0.091      -0.010       0.134\n",
      "x30            0.0277      0.030      0.909      0.363      -0.032       0.087\n",
      "x31           -0.0225      0.029     -0.790      0.430      -0.079       0.033\n",
      "x32            0.0396      0.030      1.311      0.190      -0.020       0.099\n",
      "x33           -0.0532      0.029     -1.831      0.067      -0.110       0.004\n",
      "x34            0.0117      0.029      0.400      0.689      -0.046       0.069\n",
      "x35            0.0392      0.029      1.355      0.176      -0.018       0.096\n",
      "x36            0.0088      0.030      0.299      0.765      -0.049       0.067\n",
      "x37            0.0278      0.029      0.973      0.331      -0.028       0.084\n",
      "x38           -0.0170      0.029     -0.596      0.551      -0.073       0.039\n",
      "x39            0.0042      0.029      0.144      0.885      -0.052       0.061\n",
      "x40           -0.0142      0.033     -0.424      0.672      -0.080       0.051\n",
      "x41           -0.0177      0.030     -0.592      0.554      -0.076       0.041\n",
      "x42        -2.573e-17   1.35e-17     -1.903      0.057   -5.22e-17     7.9e-19\n",
      "x43           -0.0591      0.028     -2.077      0.038      -0.115      -0.003\n",
      "x44           -0.0212      0.033     -0.645      0.519      -0.086       0.043\n",
      "x45            0.0179      0.029      0.611      0.541      -0.040       0.075\n",
      "x46            0.0132      0.029      0.458      0.647      -0.043       0.070\n",
      "x47            0.0216      0.031      0.697      0.486      -0.039       0.082\n",
      "x48            0.1737      0.054      3.232      0.001       0.068       0.279\n",
      "x49            0.0207      0.061      0.340      0.734      -0.099       0.140\n",
      "x50            0.1089      0.043      2.555      0.011       0.025       0.192\n",
      "x51           -0.1792      0.051     -3.494      0.000      -0.280      -0.079\n",
      "x52           -0.0311      0.071     -0.440      0.660      -0.169       0.107\n",
      "x53           -0.3594      0.047     -7.630      0.000      -0.452      -0.267\n",
      "x54            0.0913      0.040      2.267      0.023       0.012       0.170\n",
      "==============================================================================\n",
      "Omnibus:                       61.262   Durbin-Watson:                   1.947\n",
      "Prob(Omnibus):                  0.000   Jarque-Bera (JB):               51.758\n",
      "Skew:                          -0.298   Prob(JB):                     5.77e-12\n",
      "Kurtosis:                       2.574   Cond. No.                     1.59e+16\n",
      "==============================================================================\n",
      "\n",
      "Warnings:\n",
      "[1] Standard Errors assume that the covariance matrix of the errors is correctly specified.\n",
      "[2] The smallest eigenvalue is 3.21e-29. This might indicate that there are\n",
      "strong multicollinearity problems or that the design matrix is singular.\n"
     ]
    }
   ],
   "source": [
    "scaler = StandardScaler()\n",
    "scaler.fit(X_train)\n",
    "X_train_sc = scaler.transform(X_train)\n",
    "\n",
    "# add_constant has to be done by the user. Otherwise it will not add a intercept to the model\n",
    "X2 = sm.add_constant(X_train_sc)\n",
    "est = sm.OLS(np.log(y_train), X2)\n",
    "est2 = est.fit()\n",
    "print(est2.summary())"
   ]
  },
  {
   "cell_type": "code",
   "execution_count": 49,
   "metadata": {},
   "outputs": [
    {
     "name": "stdout",
     "output_type": "stream",
     "text": [
      "RMSE: 1.381602\n"
     ]
    }
   ],
   "source": [
    "model = lm.LinearRegression()\n",
    "model.fit(X_train_sc, np.log(y_train))\n",
    "\n",
    "X_test_sc = scaler.transform(X_test)\n",
    "\n",
    "preds = model.predict(X_test_sc)\n",
    "\n",
    "rmse = np.sqrt(mean_squared_error(np.log(y_test), preds))\n",
    "print(\"RMSE: %f\" % (rmse))"
   ]
  },
  {
   "cell_type": "code",
   "execution_count": 50,
   "metadata": {},
   "outputs": [
    {
     "name": "stdout",
     "output_type": "stream",
     "text": [
      "RMSE: 1.414943\n"
     ]
    }
   ],
   "source": [
    "# The following set of parameters give the best performance\n",
    "# {'alpha': 10, 'colsample_bytree': 0.6, 'learning_rate': 0.1, \n",
    "#  'max_depth': 5, 'n_estimators': 25, 'objective': 'reg:linear'}\n",
    "xg_reg = xgb.XGBRegressor(objective ='reg:linear', colsample_bytree = 0.3, learning_rate = 0.1,\n",
    "                max_depth = 5, alpha = 10, n_estimators = 30)\n",
    "\n",
    "xg_reg.fit(X_train_sc, np.log(y_train))\n",
    "\n",
    "preds = xg_reg.predict(X_test_sc)\n",
    "\n",
    "rmse = np.sqrt(mean_squared_error(np.log(y_test), preds))\n",
    "print(\"RMSE: %f\" % (rmse))"
   ]
  },
  {
   "cell_type": "code",
   "execution_count": 51,
   "metadata": {},
   "outputs": [
    {
     "ename": "NameError",
     "evalue": "name 'X_tr_pop' is not defined",
     "output_type": "error",
     "traceback": [
      "\u001b[0;31m---------------------------------------------------------------------------\u001b[0m",
      "\u001b[0;31mNameError\u001b[0m                                 Traceback (most recent call last)",
      "\u001b[0;32m<ipython-input-51-f9e88af32e62>\u001b[0m in \u001b[0;36m<module>\u001b[0;34m()\u001b[0m\n\u001b[1;32m      1\u001b[0m \u001b[0;31m# add_constant has to be done by the user. Otherwise it will not add a intercept to the model\u001b[0m\u001b[0;34m\u001b[0m\u001b[0;34m\u001b[0m\u001b[0m\n\u001b[0;32m----> 2\u001b[0;31m \u001b[0mX2\u001b[0m \u001b[0;34m=\u001b[0m \u001b[0msm\u001b[0m\u001b[0;34m.\u001b[0m\u001b[0madd_constant\u001b[0m\u001b[0;34m(\u001b[0m\u001b[0mX_tr_pop\u001b[0m\u001b[0;34m)\u001b[0m\u001b[0;34m\u001b[0m\u001b[0m\n\u001b[0m\u001b[1;32m      3\u001b[0m \u001b[0mest\u001b[0m \u001b[0;34m=\u001b[0m \u001b[0msm\u001b[0m\u001b[0;34m.\u001b[0m\u001b[0mOLS\u001b[0m\u001b[0;34m(\u001b[0m\u001b[0mnp\u001b[0m\u001b[0;34m.\u001b[0m\u001b[0mlog\u001b[0m\u001b[0;34m(\u001b[0m\u001b[0my_tr\u001b[0m\u001b[0;34m)\u001b[0m\u001b[0;34m,\u001b[0m \u001b[0mX2\u001b[0m\u001b[0;34m)\u001b[0m\u001b[0;34m\u001b[0m\u001b[0m\n\u001b[1;32m      4\u001b[0m \u001b[0mest2\u001b[0m \u001b[0;34m=\u001b[0m \u001b[0mest\u001b[0m\u001b[0;34m.\u001b[0m\u001b[0mfit\u001b[0m\u001b[0;34m(\u001b[0m\u001b[0;34m)\u001b[0m\u001b[0;34m\u001b[0m\u001b[0m\n\u001b[1;32m      5\u001b[0m \u001b[0mprint\u001b[0m\u001b[0;34m(\u001b[0m\u001b[0mest2\u001b[0m\u001b[0;34m.\u001b[0m\u001b[0msummary\u001b[0m\u001b[0;34m(\u001b[0m\u001b[0;34m)\u001b[0m\u001b[0;34m)\u001b[0m\u001b[0;34m\u001b[0m\u001b[0m\n",
      "\u001b[0;31mNameError\u001b[0m: name 'X_tr_pop' is not defined"
     ]
    }
   ],
   "source": [
    "# add_constant has to be done by the user. Otherwise it will not add a intercept to the model\n",
    "X2 = sm.add_constant(X_tr_pop)\n",
    "est = sm.OLS(np.log(y_tr), X2)\n",
    "est2 = est.fit()\n",
    "print(est2.summary())"
   ]
  },
  {
   "cell_type": "markdown",
   "metadata": {},
   "source": [
    "## II. Data (w Finer Segregation in Asian Population)"
   ]
  },
  {
   "cell_type": "code",
   "execution_count": 138,
   "metadata": {},
   "outputs": [
    {
     "data": {
      "text/html": [
       "<div>\n",
       "<style scoped>\n",
       "    .dataframe tbody tr th:only-of-type {\n",
       "        vertical-align: middle;\n",
       "    }\n",
       "\n",
       "    .dataframe tbody tr th {\n",
       "        vertical-align: top;\n",
       "    }\n",
       "\n",
       "    .dataframe thead th {\n",
       "        text-align: right;\n",
       "    }\n",
       "</style>\n",
       "<table border=\"1\" class=\"dataframe\">\n",
       "  <thead>\n",
       "    <tr style=\"text-align: right;\">\n",
       "      <th></th>\n",
       "      <th>Unnamed: 0</th>\n",
       "      <th>Unnamed: 0.1</th>\n",
       "      <th>median_income</th>\n",
       "      <th>housing_units</th>\n",
       "      <th>occupied_housing_units</th>\n",
       "      <th>total_pop</th>\n",
       "      <th>white_pop</th>\n",
       "      <th>afam_pop</th>\n",
       "      <th>amindian_pop</th>\n",
       "      <th>asian_pop</th>\n",
       "      <th>...</th>\n",
       "      <th>est</th>\n",
       "      <th>n1_4</th>\n",
       "      <th>n5_9</th>\n",
       "      <th>n10_19</th>\n",
       "      <th>n20_49</th>\n",
       "      <th>n50_99</th>\n",
       "      <th>n100_249</th>\n",
       "      <th>n250_499</th>\n",
       "      <th>n500_999</th>\n",
       "      <th>n1000</th>\n",
       "    </tr>\n",
       "  </thead>\n",
       "  <tbody>\n",
       "    <tr>\n",
       "      <th>0</th>\n",
       "      <td>0</td>\n",
       "      <td>0.0</td>\n",
       "      <td>46146.0</td>\n",
       "      <td>13246.0</td>\n",
       "      <td>11418.0</td>\n",
       "      <td>39507.0</td>\n",
       "      <td>20634.0</td>\n",
       "      <td>3754.0</td>\n",
       "      <td>731.0</td>\n",
       "      <td>971.0</td>\n",
       "      <td>...</td>\n",
       "      <td>441</td>\n",
       "      <td>186</td>\n",
       "      <td>78</td>\n",
       "      <td>76</td>\n",
       "      <td>52</td>\n",
       "      <td>28</td>\n",
       "      <td>19</td>\n",
       "      <td>2</td>\n",
       "      <td>0</td>\n",
       "      <td>0</td>\n",
       "    </tr>\n",
       "  </tbody>\n",
       "</table>\n",
       "<p>1 rows × 53 columns</p>\n",
       "</div>"
      ],
      "text/plain": [
       "   Unnamed: 0  Unnamed: 0.1  median_income  housing_units  \\\n",
       "0           0           0.0        46146.0        13246.0   \n",
       "\n",
       "   occupied_housing_units  total_pop  white_pop  afam_pop  amindian_pop  \\\n",
       "0                 11418.0    39507.0    20634.0    3754.0         731.0   \n",
       "\n",
       "   asian_pop  ...    est  n1_4  n5_9  n10_19  n20_49  n50_99  n100_249  \\\n",
       "0      971.0  ...    441   186    78      76      52      28        19   \n",
       "\n",
       "   n250_499  n500_999  n1000  \n",
       "0         2         0      0  \n",
       "\n",
       "[1 rows x 53 columns]"
      ]
     },
     "execution_count": 138,
     "metadata": {},
     "output_type": "execute_result"
    }
   ],
   "source": [
    "pop_data = pd.read_csv('../../../data/arizon.csv', skipinitialspace=True)\n",
    "\n",
    "pop_data.head(1)"
   ]
  },
  {
   "cell_type": "code",
   "execution_count": 139,
   "metadata": {},
   "outputs": [],
   "source": [
    "selected_pop = pop_data[['zipcode', 'PCT0050002', 'PCT0050003', 'PCT0050004', 'PCT0050005', 'PCT0050006',\n",
    "       'PCT0050007', 'PCT0050008', 'PCT0050009', 'PCT0050010', 'PCT0050011',\n",
    "       'PCT0050012', 'PCT0050013', 'PCT0050014', 'PCT0050015', 'PCT0050016',\n",
    "       'PCT0050017', 'PCT0050018', 'PCT0050019', 'PCT0050020', 'PCT0050021',\n",
    "       'PCT0050022']]"
   ]
  },
  {
   "cell_type": "code",
   "execution_count": 140,
   "metadata": {},
   "outputs": [],
   "source": [
    "joined_data = dframe.merge(selected_pop, left_on=\"zipcode\", right_on=\"zipcode\", how=\"inner\", suffixes = (\"_a\",\"_b\"))"
   ]
  },
  {
   "cell_type": "code",
   "execution_count": 141,
   "metadata": {},
   "outputs": [],
   "source": [
    "final_data = joined_data.merge(zip_avg_ffall_revC_df, left_on=\"zipcode\", right_on=\"zipcode\", how=\"inner\", suffixes = (\"_a\",\"_b\"))\n",
    "final_data['stars_avgffc'] = final_data['stars'] * final_data['avgffall']"
   ]
  },
  {
   "cell_type": "code",
   "execution_count": 142,
   "metadata": {},
   "outputs": [
    {
     "data": {
      "text/plain": [
       "Index(['zipcode', 'business_id', 'Mexican', 'American (Traditional)', 'Pizza',\n",
       "       'American (New)', 'Burgers', 'Italian', 'Chinese', 'Salad',\n",
       "       ...\n",
       "       'PCT0050017', 'PCT0050018', 'PCT0050019', 'PCT0050020', 'PCT0050021',\n",
       "       'PCT0050022', 'avgrc', 'avgffall', 'avgffc', 'stars_avgffc'],\n",
       "      dtype='object', length=102)"
      ]
     },
     "execution_count": 142,
     "metadata": {},
     "output_type": "execute_result"
    }
   ],
   "source": [
    "final_data.columns"
   ]
  },
  {
   "cell_type": "code",
   "execution_count": 143,
   "metadata": {},
   "outputs": [],
   "source": [
    "#dframe = final_data\n",
    "train, test = train_test_split(final_data, test_size=0.05)"
   ]
  },
  {
   "cell_type": "code",
   "execution_count": 144,
   "metadata": {},
   "outputs": [],
   "source": [
    "X_train = train.drop(columns=['zipcode','business_id', 'CuisineCombined','total_pop',\n",
    "                              'male','female','under_18','above_18','occupied_housing_units', 'review_count', \n",
    "                              'stars', 'ffall', 'zipcode.1', 'median_age', 'zipcode.1', \n",
    "                              'asian_pop', 'avgrc', 'ffall_category', 'white_pop', 'afam_pop', 'amindian_pop', \n",
    "                              'hawaiian_pop', 'other_race'])\n",
    "#dframe[['white_pop', 'afam_pop', 'amindian_pop', 'hawaiian_pop', 'other_race']]\n",
    "y_train = train['ffall']\n",
    "\n",
    "X_train.head()\n",
    "y_train.head()\n",
    "\n",
    "X_test = test.drop(columns=['zipcode','business_id','CuisineCombined','total_pop','male','female',\n",
    "                            'under_18','above_18','occupied_housing_units', 'review_count', 'stars', 'ffall', \n",
    "                            'zipcode.1','median_age', 'zipcode.1', 'asian_pop', 'avgrc', 'ffall_category', \n",
    "                            'white_pop', 'afam_pop', 'amindian_pop', 'hawaiian_pop', 'other_race'])\n",
    "y_test = test['ffall']"
   ]
  },
  {
   "cell_type": "markdown",
   "metadata": {},
   "source": [
    "#### Fit a new XGBoost model"
   ]
  },
  {
   "cell_type": "code",
   "execution_count": 61,
   "metadata": {},
   "outputs": [
    {
     "name": "stdout",
     "output_type": "stream",
     "text": [
      "RMSE: 1059.600022\n"
     ]
    }
   ],
   "source": [
    "# The following set of parameters give the best performance\n",
    "# {'alpha': 10, 'colsample_bytree': 0.3, 'learning_rate': 0.1, \n",
    "# 'max_depth': 5, 'n_estimators': 30, 'objective': 'reg:linear'}\n",
    "xg_reg = xgb.XGBRegressor(objective ='reg:linear', colsample_bytree = 0.3, learning_rate = 0.1,\n",
    "                max_depth = 5, alpha = 10, n_estimators = 30)\n",
    "\n",
    "xg_reg.fit(X_train, y_train)\n",
    "\n",
    "preds = xg_reg.predict(X_test)\n",
    "\n",
    "rmse = np.sqrt(mean_squared_error(y_test, preds))\n",
    "print(\"RMSE: %f\" % (rmse))"
   ]
  },
  {
   "cell_type": "code",
   "execution_count": 63,
   "metadata": {},
   "outputs": [
    {
     "name": "stdout",
     "output_type": "stream",
     "text": [
      "Random forest classifier - Grid Search - Best params:  {'max_depth': 5, 'n_estimators': 100}\n",
      "Random forest classifier - Grid Search - Best Score:  0.07566492809529435\n"
     ]
    }
   ],
   "source": [
    "params = [{'n_estimators': [15, 20, 50, 100, 200], 'max_depth': [5, 6, 10,15,20] }]\n",
    "clf = GridSearchCV(RandomForestRegressor(), params, cv=10)\n",
    "clf.fit(X_train, y_train)\n",
    "print(\"Random forest classifier - Grid Search - Best params: \", clf.best_params_)\n",
    "print(\"Random forest classifier - Grid Search - Best Score: \", clf.best_score_)"
   ]
  },
  {
   "cell_type": "code",
   "execution_count": 65,
   "metadata": {},
   "outputs": [
    {
     "name": "stdout",
     "output_type": "stream",
     "text": [
      "RMSE: 1051.880935\n"
     ]
    }
   ],
   "source": [
    "rf = RandomForestRegressor(n_estimators = 100, random_state = 42, max_depth=5)\n",
    "\n",
    "rf.fit(X_train, y_train)\n",
    "\n",
    "preds = rf.predict(X_test)\n",
    "\n",
    "rmse = np.sqrt(mean_squared_error(y_test, preds))\n",
    "print(\"RMSE: %f\" % (rmse))"
   ]
  },
  {
   "cell_type": "markdown",
   "metadata": {},
   "source": [
    "## III. Linear Regression"
   ]
  },
  {
   "cell_type": "code",
   "execution_count": 192,
   "metadata": {},
   "outputs": [],
   "source": [
    "from sklearn.preprocessing import OneHotEncoder\n",
    "from sklearn.linear_model import LinearRegression"
   ]
  },
  {
   "cell_type": "code",
   "execution_count": 193,
   "metadata": {},
   "outputs": [],
   "source": [
    "# X is a numpy array with your features\n",
    "# y is the label array\n",
    "#enc = OneHotEncoder(sparse=False)\n",
    "#X_tr_transform = enc.fit_transform(X_train)\n",
    "#X_te_transform = enc.fit_transform(X_test)\n",
    "\n",
    "# apply your linear regression as you want\n",
    "#model = LinearRegression(fit_intercept = False)\n",
    "#model.fit(X_tr_transform, y_train)\n",
    "\n",
    "#preds = model.predict(X_te_transform)\n",
    "\n",
    "#rmse = np.sqrt(mean_squared_error(y_test, preds))\n",
    "#print(\"RMSE: %f\" % (rmse))"
   ]
  },
  {
   "cell_type": "code",
   "execution_count": 145,
   "metadata": {},
   "outputs": [
    {
     "name": "stdout",
     "output_type": "stream",
     "text": [
      "RMSE: 0.997638\n"
     ]
    }
   ],
   "source": [
    "scaler = StandardScaler()\n",
    "scaler.fit(X_train)\n",
    "X_train_sc = scaler.transform(X_train)\n",
    "X_test_sc = scaler.transform(X_test)\n",
    "\n",
    "#Regression\n",
    "lmod = lm.LinearRegression()\n",
    "lmod.fit(X_train_sc, np.log(y_train))\n",
    "\n",
    "preds = lmod.predict(X_test_sc)\n",
    "rmse = np.sqrt(mean_squared_error(np.log(y_test), preds))\n",
    "print(\"RMSE: %f\" % (rmse))"
   ]
  },
  {
   "cell_type": "code",
   "execution_count": 146,
   "metadata": {},
   "outputs": [
    {
     "name": "stdout",
     "output_type": "stream",
     "text": [
      "                            OLS Regression Results                            \n",
      "==============================================================================\n",
      "Dep. Variable:                  ffall   R-squared:                       0.534\n",
      "Model:                            OLS   Adj. R-squared:                  0.517\n",
      "Method:                 Least Squares   F-statistic:                     32.03\n",
      "Date:                Mon, 19 Nov 2018   Prob (F-statistic):          2.69e-309\n",
      "Time:                        07:07:28   Log-Likelihood:                -3304.7\n",
      "No. Observations:                2318   AIC:                             6771.\n",
      "Df Residuals:                    2237   BIC:                             7237.\n",
      "Df Model:                          80                                         \n",
      "Covariance Type:            nonrobust                                         \n",
      "==============================================================================\n",
      "                 coef    std err          t      P>|t|      [0.025      0.975]\n",
      "------------------------------------------------------------------------------\n",
      "const          4.2914      0.021    201.607      0.000       4.250       4.333\n",
      "x1            -0.0289      0.031     -0.944      0.345      -0.089       0.031\n",
      "x2             0.0933      0.025      3.738      0.000       0.044       0.142\n",
      "x3            -0.0956      0.028     -3.440      0.001      -0.150      -0.041\n",
      "x4             0.0030      0.024      0.128      0.898      -0.043       0.049\n",
      "x5             0.0932      0.026      3.655      0.000       0.043       0.143\n",
      "x6            -0.0008      0.026     -0.030      0.976      -0.051       0.050\n",
      "x7            -0.0068      0.026     -0.266      0.790      -0.057       0.043\n",
      "x8             0.0856      0.022      3.828      0.000       0.042       0.130\n",
      "x9             0.0959      0.023      4.228      0.000       0.051       0.140\n",
      "x10            0.0298      0.022      1.336      0.182      -0.014       0.073\n",
      "x11            0.0500      0.027      1.842      0.066      -0.003       0.103\n",
      "x12           -0.0437      0.023     -1.867      0.062      -0.090       0.002\n",
      "x13            0.0207      0.030      0.698      0.485      -0.037       0.079\n",
      "x14           -0.0279      0.025     -1.112      0.266      -0.077       0.021\n",
      "x15            0.0356      0.023      1.569      0.117      -0.009       0.080\n",
      "x16            0.0122      0.023      0.542      0.588      -0.032       0.056\n",
      "x17            0.0101      0.027      0.376      0.707      -0.043       0.063\n",
      "x18            0.0820      0.022      3.705      0.000       0.039       0.125\n",
      "x19           -0.0035      0.022     -0.157      0.875      -0.048       0.041\n",
      "x20            0.0128      0.023      0.569      0.569      -0.031       0.057\n",
      "x21           -0.0568      0.028     -2.034      0.042      -0.112      -0.002\n",
      "x22           -0.0227      0.024     -0.927      0.354      -0.071       0.025\n",
      "x23           -0.0482      0.022     -2.179      0.029      -0.092      -0.005\n",
      "x24            0.0150      0.022      0.680      0.497      -0.028       0.058\n",
      "x25           -0.0142      0.022     -0.646      0.518      -0.057       0.029\n",
      "x26           -0.0335      0.022     -1.497      0.135      -0.077       0.010\n",
      "x27            0.0083      0.022      0.382      0.703      -0.035       0.051\n",
      "x28           -0.0454      0.022     -2.035      0.042      -0.089      -0.002\n",
      "x29            0.0287      0.028      1.016      0.310      -0.027       0.084\n",
      "x30           -0.0296      0.023     -1.290      0.197      -0.075       0.015\n",
      "x31           -0.0315      0.022     -1.463      0.144      -0.074       0.011\n",
      "x32            0.0013      0.023      0.059      0.953      -0.044       0.046\n",
      "x33           -0.0226      0.022     -1.027      0.304      -0.066       0.021\n",
      "x34            0.0343      0.022      1.541      0.124      -0.009       0.078\n",
      "x35            0.0256      0.022      1.171      0.242      -0.017       0.069\n",
      "x36           -0.0190      0.022     -0.845      0.398      -0.063       0.025\n",
      "x37           -0.0192      0.022     -0.887      0.375      -0.062       0.023\n",
      "x38           -0.0209      0.022     -0.971      0.332      -0.063       0.021\n",
      "x39            0.0166      0.022      0.759      0.448      -0.026       0.060\n",
      "x40           -0.0003      0.026     -0.012      0.991      -0.050       0.050\n",
      "x41           -0.0106      0.023     -0.467      0.641      -0.055       0.034\n",
      "x42           -0.0043      0.022     -0.198      0.843      -0.047       0.038\n",
      "x43           -0.0542      0.022     -2.518      0.012      -0.096      -0.012\n",
      "x44           -0.0101      0.025     -0.404      0.686      -0.059       0.039\n",
      "x45           -0.0128      0.022     -0.584      0.559      -0.056       0.030\n",
      "x46            0.0102      0.022      0.470      0.638      -0.032       0.053\n",
      "x47            0.0105      0.023      0.454      0.650      -0.035       0.056\n",
      "x48           -0.0599      0.086     -0.696      0.487      -0.229       0.109\n",
      "x49           -0.0131      0.072     -0.181      0.856      -0.155       0.128\n",
      "x50            1.0017      0.026     39.260      0.000       0.952       1.052\n",
      "x51           -0.0060      0.121     -0.049      0.961      -0.244       0.232\n",
      "x52            0.0081      0.097      0.083      0.934      -0.182       0.198\n",
      "x53           -0.0520      0.066     -0.784      0.433      -0.182       0.078\n",
      "x54           -0.0248      0.114     -0.218      0.827      -0.248       0.198\n",
      "x55           -0.0016      0.090     -0.017      0.986      -0.178       0.175\n",
      "x56            0.0407      0.075      0.540      0.589      -0.107       0.188\n",
      "x57            0.0483      0.094      0.512      0.609      -0.137       0.233\n",
      "x58            0.0022      0.065      0.033      0.974      -0.125       0.130\n",
      "x59            0.0052      0.096      0.054      0.957      -0.183       0.193\n",
      "x60           -0.0118      0.133     -0.089      0.929      -0.273       0.250\n",
      "x61            0.0172      0.060      0.286      0.775      -0.101       0.135\n",
      "x62           -0.0190      0.107     -0.177      0.859      -0.230       0.191\n",
      "x63           -0.1431      0.171     -0.838      0.402      -0.478       0.192\n",
      "x64            0.0618      0.070      0.878      0.380      -0.076       0.200\n",
      "x65            0.0011      0.066      0.016      0.987      -0.129       0.131\n",
      "x66            0.0200      0.117      0.171      0.865      -0.210       0.250\n",
      "x67           -0.0268      0.186     -0.144      0.885      -0.391       0.338\n",
      "x68            0.0322      0.064      0.506      0.613      -0.093       0.157\n",
      "x69            0.0235      0.119      0.198      0.843      -0.209       0.256\n",
      "x70            0.0364      0.085      0.430      0.668      -0.130       0.203\n",
      "x71            0.0578      0.074      0.776      0.438      -0.088       0.204\n",
      "x72           -0.0311      0.062     -0.501      0.616      -0.153       0.091\n",
      "x73            0.0509      0.113      0.450      0.653      -0.171       0.273\n",
      "x74            0.0783      0.109      0.718      0.473      -0.136       0.292\n",
      "x75           -0.0220      0.106     -0.208      0.835      -0.230       0.186\n",
      "x76            0.0556      0.045      1.236      0.217      -0.033       0.144\n",
      "x77            0.0079      0.076      0.104      0.917      -0.141       0.157\n",
      "x78           -0.2938      0.235     -1.250      0.211      -0.755       0.167\n",
      "x79            0.6761      0.230      2.935      0.003       0.224       1.128\n",
      "x80           -0.2121      0.070     -3.027      0.002      -0.350      -0.075\n",
      "==============================================================================\n",
      "Omnibus:                       93.451   Durbin-Watson:                   1.999\n",
      "Prob(Omnibus):                  0.000   Jarque-Bera (JB):              104.219\n",
      "Skew:                          -0.518   Prob(JB):                     2.34e-23\n",
      "Kurtosis:                       3.073   Cond. No.                         52.5\n",
      "==============================================================================\n",
      "\n",
      "Warnings:\n",
      "[1] Standard Errors assume that the covariance matrix of the errors is correctly specified.\n"
     ]
    }
   ],
   "source": [
    "# add_constant has to be done by the user. Otherwise it will not add a intercept to the model\n",
    "X2 = sm.add_constant(X_train_sc)\n",
    "est = sm.OLS(np.log(y_train), X2)\n",
    "est2 = est.fit()\n",
    "print(est2.summary())"
   ]
  },
  {
   "cell_type": "code",
   "execution_count": null,
   "metadata": {},
   "outputs": [],
   "source": [
    "X_train_dummy = train.drop(columns=['zipcode','business_id', 'CuisineCombined','total_pop',\n",
    "                              'male','female','under_18','above_18','occupied_housing_units', 'review_count', \n",
    "                              'stars', 'ffall', 'zipcode.1', 'median_age', 'zipcode.1', \n",
    "                              'asian_pop', 'avgrc', 'ffall_category'])\n",
    "y_train = train['ffall']\n",
    "\n",
    "X_train.head()\n",
    "y_train.head()\n",
    "\n",
    "X_test = test.drop(columns=['zipcode','business_id','CuisineCombined','total_pop','male','female',\n",
    "                            'under_18','above_18','occupied_housing_units', 'review_count', 'stars', 'ffall', \n",
    "                            'zipcode.1','median_age', 'zipcode.1', 'asian_pop', 'avgrc', 'ffall_category'])\n",
    "y_test = test['ffall']"
   ]
  },
  {
   "cell_type": "code",
   "execution_count": 151,
   "metadata": {},
   "outputs": [
    {
     "data": {
      "text/plain": [
       "count     142.000000\n",
       "mean      424.739437\n",
       "std       861.274535\n",
       "min         1.000000\n",
       "25%        18.000000\n",
       "50%       100.500000\n",
       "75%       411.750000\n",
       "max      6007.000000\n",
       "Name: ffall, dtype: float64"
      ]
     },
     "execution_count": 151,
     "metadata": {},
     "output_type": "execute_result"
    }
   ],
   "source": [
    "y_test.describe()"
   ]
  },
  {
   "cell_type": "code",
   "execution_count": 251,
   "metadata": {},
   "outputs": [
    {
     "name": "stdout",
     "output_type": "stream",
     "text": [
      "                            OLS Regression Results                            \n",
      "==============================================================================\n",
      "Dep. Variable:                  ffall   R-squared:                       0.143\n",
      "Model:                            OLS   Adj. R-squared:                  0.052\n",
      "Method:                 Least Squares   F-statistic:                     1.568\n",
      "Date:                Mon, 19 Nov 2018   Prob (F-statistic):             0.0183\n",
      "Time:                        03:10:20   Log-Likelihood:                -3542.6\n",
      "No. Observations:                 417   AIC:                             7167.\n",
      "Df Residuals:                     376   BIC:                             7333.\n",
      "Df Model:                          40                                         \n",
      "Covariance Type:            nonrobust                                         \n",
      "==============================================================================\n",
      "                 coef    std err          t      P>|t|      [0.025      0.975]\n",
      "------------------------------------------------------------------------------\n",
      "const       1561.4940     61.055     25.575      0.000    1441.441    1681.547\n",
      "x1           -68.7701     83.469     -0.824      0.411    -232.895      95.354\n",
      "x2           -40.4393     71.387     -0.566      0.571    -180.807      99.929\n",
      "x3            98.1660     91.386      1.074      0.283     -81.525     277.857\n",
      "x4           247.7273     72.986      3.394      0.001     104.216     391.239\n",
      "x5           -42.5039     66.382     -0.640      0.522    -173.030      88.023\n",
      "x6           -61.2162     94.787     -0.646      0.519    -247.595     125.163\n",
      "x7           -36.5064     76.092     -0.480      0.632    -186.126     113.113\n",
      "x8            18.6354     63.953      0.291      0.771    -107.116     144.386\n",
      "x9           -49.8429     66.910     -0.745      0.457    -181.408      81.722\n",
      "x10          100.0633     69.801      1.434      0.153     -37.186     237.312\n",
      "x11         -190.1927    109.974     -1.729      0.085    -406.434      26.049\n",
      "x12           27.2079     66.331      0.410      0.682    -103.218     157.634\n",
      "x13           36.3987    113.356      0.321      0.748    -186.493     259.290\n",
      "x14          186.5981    101.717      1.834      0.067     -13.407     386.603\n",
      "x15            6.0387     76.251      0.079      0.937    -143.893     155.970\n",
      "x16          -47.8441     67.824     -0.705      0.481    -181.206      85.518\n",
      "x17          -64.4755    104.303     -0.618      0.537    -269.566     140.615\n",
      "x18          -37.4951     66.360     -0.565      0.572    -167.978      92.988\n",
      "x19          -97.5955     67.578     -1.444      0.150    -230.473      35.283\n",
      "x20           47.0005     68.167      0.689      0.491     -87.035     181.036\n",
      "x21          -24.3507     31.415     -0.775      0.439     -86.122      37.421\n",
      "x22          -64.1391     89.584     -0.716      0.474    -240.288     112.010\n",
      "x23          -32.0469     63.266     -0.507      0.613    -156.447      92.353\n",
      "x24          -38.3625     65.581     -0.585      0.559    -167.315      90.590\n",
      "x25           86.6483     69.348      1.249      0.212     -49.711     223.008\n",
      "x26           78.9704     79.497      0.993      0.321     -77.345     235.285\n",
      "x27          -77.6465     62.343     -1.245      0.214    -200.230      44.937\n",
      "x28           38.8448     71.723      0.542      0.588    -102.183     179.873\n",
      "x29          -24.3507     31.415     -0.775      0.439     -86.122      37.421\n",
      "x30           94.2989     70.611      1.335      0.183     -44.543     233.140\n",
      "x31           96.1090     65.079      1.477      0.141     -31.855     224.073\n",
      "x32         2.502e-14   3.26e-14      0.768      0.443    -3.9e-14    8.91e-14\n",
      "x33         1.345e-14    1.8e-14      0.749      0.454   -2.18e-14    4.87e-14\n",
      "x34        -7.344e-15   2.08e-14     -0.353      0.725   -4.83e-14    3.36e-14\n",
      "x35           69.3564     70.286      0.987      0.324     -68.847     207.559\n",
      "x36          -20.4124     76.068     -0.268      0.789    -169.985     129.160\n",
      "x37         7.063e-15   1.75e-14      0.403      0.687   -2.74e-14    4.15e-14\n",
      "x38         6.711e-15   8.59e-15      0.782      0.435   -1.02e-14    2.36e-14\n",
      "x39          -24.0266     62.528     -0.384      0.701    -146.974      98.921\n",
      "x40        -1.378e-14   7.24e-15     -1.903      0.058    -2.8e-14    4.56e-16\n",
      "x41                 0          0        nan        nan           0           0\n",
      "x42                 0          0        nan        nan           0           0\n",
      "x43                 0          0        nan        nan           0           0\n",
      "x44                 0          0        nan        nan           0           0\n",
      "x45                 0          0        nan        nan           0           0\n",
      "x46                 0          0        nan        nan           0           0\n",
      "x47                 0          0        nan        nan           0           0\n",
      "x48          -40.7464    142.589     -0.286      0.775    -321.118     239.625\n",
      "x49         -247.1426    147.730     -1.673      0.095    -537.624      43.339\n",
      "x50          125.8920    101.022      1.246      0.213     -72.748     324.532\n",
      "x51         -310.0791    136.372     -2.274      0.024    -578.227     -41.931\n",
      "x52          277.4897    188.515      1.472      0.142     -93.186     648.166\n",
      "x53         -118.5096    120.936     -0.980      0.328    -356.305     119.285\n",
      "x54           46.4632     91.310      0.509      0.611    -133.079     226.006\n",
      "==============================================================================\n",
      "Omnibus:                      282.295   Durbin-Watson:                   1.976\n",
      "Prob(Omnibus):                  0.000   Jarque-Bera (JB):             3347.595\n",
      "Skew:                           2.784   Prob(JB):                         0.00\n",
      "Kurtosis:                      15.715   Cond. No.                     1.41e+16\n",
      "==============================================================================\n",
      "\n",
      "Warnings:\n",
      "[1] Standard Errors assume that the covariance matrix of the errors is correctly specified.\n",
      "[2] The smallest eigenvalue is 8.48e-30. This might indicate that there are\n",
      "strong multicollinearity problems or that the design matrix is singular.\n"
     ]
    },
    {
     "name": "stderr",
     "output_type": "stream",
     "text": [
      "/home/ec2-user/miniconda3/lib/python3.7/site-packages/ipykernel_launcher.py:2: SettingWithCopyWarning: \n",
      "A value is trying to be set on a copy of a slice from a DataFrame.\n",
      "Try using .loc[row_indexer,col_indexer] = value instead\n",
      "\n",
      "See the caveats in the documentation: http://pandas.pydata.org/pandas-docs/stable/indexing.html#indexing-view-versus-copy\n",
      "  \n",
      "/home/ec2-user/miniconda3/lib/python3.7/site-packages/statsmodels/base/model.py:1100: RuntimeWarning: invalid value encountered in true_divide\n",
      "  return self.params / self.bse\n",
      "/home/ec2-user/miniconda3/lib/python3.7/site-packages/scipy/stats/_distn_infrastructure.py:879: RuntimeWarning: invalid value encountered in greater\n",
      "  return (self.a < x) & (x < self.b)\n",
      "/home/ec2-user/miniconda3/lib/python3.7/site-packages/scipy/stats/_distn_infrastructure.py:879: RuntimeWarning: invalid value encountered in less\n",
      "  return (self.a < x) & (x < self.b)\n",
      "/home/ec2-user/miniconda3/lib/python3.7/site-packages/scipy/stats/_distn_infrastructure.py:1821: RuntimeWarning: invalid value encountered in less_equal\n",
      "  cond2 = cond0 & (x <= self.a)\n"
     ]
    }
   ],
   "source": [
    "dframe2 = raw_data[raw_data['ffall']>600]\n",
    "dframe2['totalStars'] = dframe2['review_count'] * dframe2['stars']\n",
    "train2, test2 = train_test_split(dframe2, test_size=0.05)\n",
    "dframe2['totalStars'].head()\n",
    "\n",
    "X_train2 = train2.drop(columns=['zipcode','business_id','ffall_category','CuisineCombined','total_pop','male','female','under_18','above_18','occupied_housing_units', 'review_count', 'stars', 'ffall', 'totalStars', 'zipcode.1', 'median_age', 'walkscore'])\n",
    "y_train2 = train2['ffall']\n",
    "\n",
    "X_test2 = test2.drop(columns=['zipcode','business_id','ffall_category','CuisineCombined','total_pop','male','female','under_18','above_18','occupied_housing_units', 'review_count', 'stars', 'ffall', 'totalStars', 'zipcode.1','median_age', 'walkscore'])\n",
    "y_test2 = test2['ffall']\n",
    "\n",
    "scaler = StandardScaler()\n",
    "scaler.fit(X_train2)\n",
    "X_train_sc2 = scaler.transform(X_train2)\n",
    "\n",
    "\n",
    "# add_constant has to be done by the user. Otherwise it will not add a intercept to the model\n",
    "X3 = sm.add_constant(X_train_sc2)\n",
    "est3 = sm.OLS(y_train2, X3)\n",
    "est4 = est3.fit()\n",
    "print(est4.summary())"
   ]
  },
  {
   "cell_type": "code",
   "execution_count": 253,
   "metadata": {},
   "outputs": [
    {
     "name": "stdout",
     "output_type": "stream",
     "text": [
      "RMSE: 1973.638555\n"
     ]
    }
   ],
   "source": [
    "model2 = LinearRegression()\n",
    "model2.fit(X_train_sc2, y_train2)\n",
    "\n",
    "X_test_sc2 = scaler.transform(X_test2)\n",
    "\n",
    "preds = model.predict(X_test_sc2)\n",
    "\n",
    "rmse = np.sqrt(mean_squared_error(y_test2, preds))\n",
    "print(\"RMSE: %f\" % (rmse))"
   ]
  },
  {
   "cell_type": "code",
   "execution_count": 61,
   "metadata": {},
   "outputs": [
    {
     "name": "stdout",
     "output_type": "stream",
     "text": [
      "Random forest classifier - Grid Search - Best params:  {'alpha': 10, 'colsample_bytree': 0.9, 'learning_rate': 0.1, 'max_depth': 5, 'n_estimators': 35, 'objective': 'reg:linear'}\n",
      "Random forest classifier - Grid Search - Best Score:  0.15692389498974674\n"
     ]
    }
   ],
   "source": [
    "params = [{'learning_rate': [0.01, 0.1, 0.5], 'n_estimators': [25, 30, 35], 'max_depth': [5, 10, 15], \n",
    "           'colsample_bytree': [0.3, 0.6, 0.9], 'objective': ['reg:linear'], 'alpha': [10]}]\n",
    "\n",
    "clf = GridSearchCV(xgb.XGBRegressor(), params, cv=10)\n",
    "\n",
    "clf.fit(X_train_sc, np.log(y_train))\n",
    "print(\"Random forest classifier - Grid Search - Best params: \", clf.best_params_)\n",
    "print(\"Random forest classifier - Grid Search - Best Score: \", clf.best_score_)"
   ]
  },
  {
   "cell_type": "code",
   "execution_count": 62,
   "metadata": {},
   "outputs": [
    {
     "name": "stdout",
     "output_type": "stream",
     "text": [
      "RMSE: 1.483349\n"
     ]
    }
   ],
   "source": [
    "# The following set of parameters give the best performance\n",
    "# {'alpha': 10, 'colsample_bytree': 0.6, 'learning_rate': 0.1, \n",
    "#  'max_depth': 5, 'n_estimators': 25, 'objective': 'reg:linear'}\n",
    "xg_reg = xgb.XGBRegressor(objective ='reg:linear', colsample_bytree = 0.9, learning_rate = 0.1,\n",
    "                max_depth = 5, alpha = 10, n_estimators = 35)\n",
    "\n",
    "xg_reg.fit(X_train_sc, np.log(y_train))\n",
    "\n",
    "preds = xg_reg.predict(X_test_sc)\n",
    "\n",
    "rmse = np.sqrt(mean_squared_error(np.log(y_test), preds))\n",
    "print(\"RMSE: %f\" % (rmse))"
   ]
  },
  {
   "cell_type": "code",
   "execution_count": 260,
   "metadata": {},
   "outputs": [],
   "source": [
    "raw_data\n",
    "\n",
    "result_data = raw_data.sort_values(['ffall'], ascending=True)"
   ]
  },
  {
   "cell_type": "code",
   "execution_count": 269,
   "metadata": {},
   "outputs": [
    {
     "data": {
      "text/plain": [
       "2303     1\n",
       "2724     1\n",
       "1084     1\n",
       "1562     1\n",
       "643      1\n",
       "1758     1\n",
       "839      1\n",
       "1549     1\n",
       "2215     1\n",
       "499      1\n",
       "756      1\n",
       "976      1\n",
       "824      1\n",
       "761      1\n",
       "210      1\n",
       "1534     1\n",
       "817      1\n",
       "2007     1\n",
       "192      1\n",
       "481      1\n",
       "807      1\n",
       "187      1\n",
       "2693     1\n",
       "420      1\n",
       "2489     1\n",
       "2626     1\n",
       "180      1\n",
       "2053     1\n",
       "790      1\n",
       "609      1\n",
       "        ..\n",
       "2782    16\n",
       "319     16\n",
       "2147    16\n",
       "2208    16\n",
       "2592    16\n",
       "2753    16\n",
       "2640    16\n",
       "1037    16\n",
       "874     16\n",
       "2584    16\n",
       "2682    16\n",
       "585     16\n",
       "2568    16\n",
       "2571    16\n",
       "2081    16\n",
       "104     16\n",
       "2278    16\n",
       "637     16\n",
       "287     16\n",
       "2779    16\n",
       "1640    16\n",
       "657     16\n",
       "248     16\n",
       "465     16\n",
       "814     16\n",
       "1780    16\n",
       "961     16\n",
       "2649    16\n",
       "2660    17\n",
       "2582    17\n",
       "Name: ffall, Length: 560, dtype: int64"
      ]
     },
     "execution_count": 269,
     "metadata": {},
     "output_type": "execute_result"
    }
   ],
   "source": [
    "result_data['ffall'].head(560)"
   ]
  },
  {
   "cell_type": "code",
   "execution_count": null,
   "metadata": {},
   "outputs": [],
   "source": []
  }
 ],
 "metadata": {
  "kernelspec": {
   "display_name": "Python 3",
   "language": "python",
   "name": "python3"
  },
  "language_info": {
   "codemirror_mode": {
    "name": "ipython",
    "version": 3
   },
   "file_extension": ".py",
   "mimetype": "text/x-python",
   "name": "python",
   "nbconvert_exporter": "python",
   "pygments_lexer": "ipython3",
   "version": "3.7.0"
  }
 },
 "nbformat": 4,
 "nbformat_minor": 2
}
